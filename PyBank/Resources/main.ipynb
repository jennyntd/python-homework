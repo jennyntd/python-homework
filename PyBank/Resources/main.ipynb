{
 "cells": [
  {
   "cell_type": "code",
   "execution_count": 92,
   "metadata": {},
   "outputs": [
    {
     "name": "stdout",
     "output_type": "stream",
     "text": [
      "86\n",
      "0\n"
     ]
    }
   ],
   "source": [
    "# PYBANK\n",
    "\n",
    "# Import the pathlib and csv library\n",
    "\n",
    "from pathlib import Path\n",
    "import csv\n",
    "\n",
    "# Set the file path\n",
    "\n",
    "csvpath = Path('Resources/budget_data.csv')\n",
    "\n",
    "#Initialze variables\n",
    "\n",
    "month_total = 0\n",
    "pl_total = 0\n",
    "\n",
    "\n",
    "# Open the csv file as an object\n",
    "\n",
    "with open(csvpath, 'r') as csvfile:\n",
    "    \n",
    "# Pass in the csv file to the csv.reader() function\n",
    "    # (with ',' as the delmiter/separator) and return the csvreader object\n",
    "\n",
    "    csvreader = csv.reader(csvfile, delimiter=',')    \n",
    "\n",
    "    header = next(csvreader)\n",
    "\n",
    "# Calculate the total number of months included in the dataset.\n",
    "    for month in csvreader:\n",
    "        month_total += 1  \n",
    "     \n",
    "    print(month_total) \n",
    "\n",
    "\n",
    "# Calculate the net total amount of Profit/Losses over the entire period.\n",
    "    for pl in csvreader:\n",
    "        pl = int(row[3])\n",
    "        pl_total += pl\n",
    "        \n",
    "    print(pl_total)\n",
    "# Calculate the average of the changes in Profit/Losses over the entire period.\n",
    "\n",
    "\n",
    "# Calcualte the greatest increase in profits (date and amount) over the entire period.\n",
    "\n",
    "\n",
    "#Calcualte the greatest decrease in losses (date and amount) over the entire period."
   ]
  },
  {
   "cell_type": "code",
   "execution_count": null,
   "metadata": {},
   "outputs": [],
   "source": []
  }
 ],
 "metadata": {
  "kernelspec": {
   "display_name": "Python 3",
   "language": "python",
   "name": "python3"
  },
  "language_info": {
   "codemirror_mode": {
    "name": "ipython",
    "version": 3
   },
   "file_extension": ".py",
   "mimetype": "text/x-python",
   "name": "python",
   "nbconvert_exporter": "python",
   "pygments_lexer": "ipython3",
   "version": "3.8.5"
  }
 },
 "nbformat": 4,
 "nbformat_minor": 4
}
