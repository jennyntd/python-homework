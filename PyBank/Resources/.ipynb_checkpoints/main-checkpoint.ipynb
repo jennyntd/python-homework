{
 "cells": [
  {
   "cell_type": "code",
   "execution_count": 24,
   "metadata": {},
   "outputs": [
    {
     "name": "stdout",
     "output_type": "stream",
     "text": [
      "<class '_io.TextIOWrapper'>\n",
      "<class '_csv.reader'>\n"
     ]
    },
    {
     "ename": "ValueError",
     "evalue": "I/O operation on closed file.",
     "output_type": "error",
     "traceback": [
      "\u001b[1;31m---------------------------------------------------------------------------\u001b[0m",
      "\u001b[1;31mValueError\u001b[0m                                Traceback (most recent call last)",
      "\u001b[1;32m<ipython-input-24-fc3194fa4a04>\u001b[0m in \u001b[0;36m<module>\u001b[1;34m\u001b[0m\n\u001b[0;32m     19\u001b[0m \u001b[1;31m# Go to the next row from the start of the file\u001b[0m\u001b[1;33m\u001b[0m\u001b[1;33m\u001b[0m\u001b[1;33m\u001b[0m\u001b[0m\n\u001b[0;32m     20\u001b[0m \u001b[1;33m\u001b[0m\u001b[0m\n\u001b[1;32m---> 21\u001b[1;33m \u001b[0mheader\u001b[0m \u001b[1;33m=\u001b[0m \u001b[0mnext\u001b[0m\u001b[1;33m(\u001b[0m\u001b[0mcsvreader\u001b[0m\u001b[1;33m)\u001b[0m\u001b[1;33m\u001b[0m\u001b[1;33m\u001b[0m\u001b[0m\n\u001b[0m\u001b[0;32m     22\u001b[0m \u001b[0mline_num\u001b[0m \u001b[1;33m+=\u001b[0m \u001b[1;36m1\u001b[0m\u001b[1;33m\u001b[0m\u001b[1;33m\u001b[0m\u001b[0m\n\u001b[0;32m     23\u001b[0m \u001b[1;33m\u001b[0m\u001b[0m\n",
      "\u001b[1;31mValueError\u001b[0m: I/O operation on closed file."
     ]
    }
   ],
   "source": [
    "# PYBANK\n",
    "\n",
    "# Import the pathlib and csv library\n",
    "\n",
    "from pathlib import Path\n",
    "import csv\n",
    "\n",
    "# Set the file path\n",
    "\n",
    "csvpath = Path('Resources/budget_data.csv')\n",
    "\n",
    "with open(csvpath, 'r') as csvfile:\n",
    "        print(type(csvfile))\n",
    "        \n",
    "        csvreader = csv.reader(csvfile, delimiter=',')\n",
    "        \n",
    "        print(type(csvreader))\n",
    "        \n",
    "# Go to the next row from the start of the file\n",
    "\n",
    "header = next(csvreader)\n",
    "line_num += 1\n",
    "\n",
    "print(header)\n",
    "\n",
    "#Initialze variables\n",
    "\n",
    "month_total = 0\n",
    "pl_total = 0\n",
    "        \n",
    "    for row in file:\n",
    "        number = int(line)\n",
    "        month_total += number\n",
    "        pl_total +=1\n",
    "        \n",
    "    print(month_total)    \n",
    "# Calculate the total number of months included in the dataset.\n",
    "\n",
    "\n",
    "\n",
    "# Calculate the net total amount of Profit/Losses over the entire period.\n",
    "\n",
    "\n",
    "# Calculate the average of the changes in Profit/Losses over the entire period.\n",
    "\n",
    "\n",
    "# Calcualte the greatest increase in profits (date and amount) over the entire period.\n",
    "\n",
    "\n",
    "#Calcualte the greatest decrease in losses (date and amount) over the entire period."
   ]
  },
  {
   "cell_type": "code",
   "execution_count": null,
   "metadata": {},
   "outputs": [],
   "source": []
  }
 ],
 "metadata": {
  "kernelspec": {
   "display_name": "Python 3",
   "language": "python",
   "name": "python3"
  },
  "language_info": {
   "codemirror_mode": {
    "name": "ipython",
    "version": 3
   },
   "file_extension": ".py",
   "mimetype": "text/x-python",
   "name": "python",
   "nbconvert_exporter": "python",
   "pygments_lexer": "ipython3",
   "version": "3.8.5"
  }
 },
 "nbformat": 4,
 "nbformat_minor": 4
}
