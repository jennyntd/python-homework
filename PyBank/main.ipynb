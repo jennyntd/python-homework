{
 "cells": [
  {
   "cell_type": "code",
   "execution_count": 276,
   "metadata": {},
   "outputs": [
    {
     "name": "stdout",
     "output_type": "stream",
     "text": [
      "Financial Analysis\n",
      "------------\n",
      "Total month: 86\n",
      "Total profit: $38382578\n",
      "Average Change: $6196.15\n",
      "Greatest Increase in Profits: Feb-2012,1926159\n",
      "Greatest Increase in Profits: Sep-2013,-2196167\n"
     ]
    }
   ],
   "source": [
    "# PYBANK\n",
    "\n",
    "# Import the pathlib and csv library\n",
    "\n",
    "from pathlib import Path\n",
    "import csv\n",
    "\n",
    "# Set the file path\n",
    "\n",
    "csvpath = Path('Resources/budget_data.csv')\n",
    "\n",
    "#Initialze variables\n",
    "\n",
    "month_total = 0\n",
    "pl_total = 0\n",
    "change = 0\n",
    "previous_month = 0\n",
    "max_change = 0\n",
    "min_change = 0\n",
    "\n",
    "\n",
    "# Open the csv file as an object\n",
    "\n",
    "with open(csvpath, 'r') as csvfile:\n",
    "    \n",
    "# Pass in the csv file to the csv.reader() function\n",
    "    # (with ',' as the delmiter/separator) and return the csvreader object\n",
    "\n",
    "    csvreader = csv.reader(csvfile, delimiter=',')    \n",
    "\n",
    "    header = next(csvreader)\n",
    "\n",
    "# Calculate the total number of months included in the dataset and the net total amount of Profit/Losses over the entire period.\n",
    "  \n",
    "    for row in csvreader:\n",
    "        month = row[0]\n",
    "        month_total += 1  \n",
    "        pl = row[1]\n",
    "        pl_total += int(pl)\n",
    "        \n",
    "        change = int(pl) - int(previous_month)\n",
    "        \n",
    "        \n",
    "        previous_month = int(pl)\n",
    "        \n",
    "        \n",
    "# Logic to determine min and max salaries        \n",
    "        if max_change < change:\n",
    "            max_change = change\n",
    "            max_change_date = month\n",
    "        if min_change > change:\n",
    "            min_change = change\n",
    "            min_change_date = month\n",
    "\n",
    "# Calculate the average of the changes in Profit/Losses over the entire period.\n",
    "\n",
    "avg_change = round(change/month_total, 2)\n",
    "\n",
    "\n",
    "#Result\n",
    "print(f'Financial Analysis')\n",
    "print(f'------------')\n",
    "print(f'Total month: {month_total}') \n",
    "print(f'Total profit: ${pl_total}')\n",
    "print(f'Average Change: ${avg_change}')\n",
    "print(f'Greatest Increase in Profits: {max_change_date},{max_change}')\n",
    "print(f'Greatest Increase in Profits: {min_change_date},{min_change}')\n"
   ]
  },
  {
   "cell_type": "code",
   "execution_count": null,
   "metadata": {},
   "outputs": [],
   "source": []
  },
  {
   "cell_type": "code",
   "execution_count": null,
   "metadata": {},
   "outputs": [],
   "source": [
    "\n"
   ]
  },
  {
   "cell_type": "code",
   "execution_count": null,
   "metadata": {},
   "outputs": [],
   "source": []
  }
 ],
 "metadata": {
  "kernelspec": {
   "display_name": "Python 3",
   "language": "python",
   "name": "python3"
  },
  "language_info": {
   "codemirror_mode": {
    "name": "ipython",
    "version": 3
   },
   "file_extension": ".py",
   "mimetype": "text/x-python",
   "name": "python",
   "nbconvert_exporter": "python",
   "pygments_lexer": "ipython3",
   "version": "3.8.5"
  }
 },
 "nbformat": 4,
 "nbformat_minor": 4
}
